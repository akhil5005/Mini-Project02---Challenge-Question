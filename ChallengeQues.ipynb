{
  "nbformat": 4,
  "nbformat_minor": 0,
  "metadata": {
    "colab": {
      "provenance": [],
      "authorship_tag": "ABX9TyP2FPOdXjItuopa9PKTCYs+",
      "include_colab_link": true
    },
    "kernelspec": {
      "name": "python3",
      "display_name": "Python 3"
    },
    "language_info": {
      "name": "python"
    }
  },
  "cells": [
    {
      "cell_type": "markdown",
      "metadata": {
        "id": "view-in-github",
        "colab_type": "text"
      },
      "source": [
        "<a href=\"https://colab.research.google.com/github/akhil5005/Mini-Project02---Challenge-Question/blob/main/ChallengeQues.ipynb\" target=\"_parent\"><img src=\"https://colab.research.google.com/assets/colab-badge.svg\" alt=\"Open In Colab\"/></a>"
      ]
    },
    {
      "cell_type": "code",
      "execution_count": null,
      "metadata": {
        "colab": {
          "base_uri": "https://localhost:8080/"
        },
        "id": "8Q_jWQqdAXFW",
        "outputId": "d4c35321-6cbc-4e88-c047-fd1acbdd913b"
      },
      "outputs": [
        {
          "output_type": "stream",
          "name": "stdout",
          "text": [
            "['Aman', 'Ram', 'Shyam', 1, 2, 3]\n"
          ]
        }
      ],
      "source": [
        "L = [\"Ram\", 1, \"Shyam\", 2, \"Aman\", 3]\n",
        "\n",
        "\n",
        "L_str = sorted([x for x in L if type(x) == str])\n",
        "L_num = sorted([x for x in L if type(x) == int])\n",
        "\n",
        "\n",
        "print(L_str + L_num)\n",
        "\n"
      ]
    }
  ]
}